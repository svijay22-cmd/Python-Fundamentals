{
 "cells": [
  {
   "cell_type": "markdown",
   "id": "bde5be77-adc7-44f8-abe6-a4407c0a7d8b",
   "metadata": {
    "tags": []
   },
   "source": [
    "# Python Fundamentals"
   ]
  },
  {
   "cell_type": "markdown",
   "id": "ebf8324f-3190-417c-a431-5611f391fab1",
   "metadata": {
    "tags": []
   },
   "source": [
    "### Python as a calculator"
   ]
  },
  {
   "cell_type": "code",
   "execution_count": null,
   "id": "216f4f45-00dc-4b96-907d-8c9a6527fef6",
   "metadata": {},
   "outputs": [],
   "source": [
    "1+1 #To run a code, do: Shift + Enter"
   ]
  },
  {
   "cell_type": "code",
   "execution_count": null,
   "id": "20bda77b-9d65-45b7-99d1-7fe8b0bbc936",
   "metadata": {},
   "outputs": [],
   "source": [
    "2*8"
   ]
  },
  {
   "cell_type": "code",
   "execution_count": null,
   "id": "eb121220-56ee-413f-bc47-667024d0e543",
   "metadata": {},
   "outputs": [],
   "source": [
    "3+4*5-1/2  # 3 + (4 * 5) - (1 / 2)  #Python automatically uses PEMDAS to solve"
   ]
  },
  {
   "cell_type": "code",
   "execution_count": null,
   "id": "f725e042-d01c-4f1b-bdff-53a66e0a5eba",
   "metadata": {},
   "outputs": [],
   "source": [
    "3-2   #f you have two lines of code, Python will only code for the last line of code.\n",
    "2+5"
   ]
  },
  {
   "cell_type": "code",
   "execution_count": null,
   "id": "41626280",
   "metadata": {},
   "outputs": [],
   "source": [
    "print(3-2)  #Multiple lines of code will give the previous cell's result. \n",
    "print(2+5)"
   ]
  },
  {
   "cell_type": "code",
   "execution_count": null,
   "id": "7b975639-ba68-432c-bc27-3f41ff9e4c30",
   "metadata": {},
   "outputs": [],
   "source": [
    "print('Hello World!')  #'Hello World' is a string"
   ]
  },
  {
   "cell_type": "code",
   "execution_count": null,
   "id": "d48a0ded-631b-4e9a-9d18-37e971158fb1",
   "metadata": {},
   "outputs": [],
   "source": [
    "print(\"Welcome\",2,\"Programming\",4,\"Data Science\", 'class')\n",
    "\n",
    "print(\"Welcome\",2,\"Programming\",4,\"Data Science\", \"class\")\n",
    "\n",
    "\n",
    "#This example has a combination of strings and numbers\n",
    "#Strings can be in either single quotes or double quotes\n",
    "#Numbers can be left alone\n",
    "#Using a comma automatically places a space between two parameters"
   ]
  },
  {
   "cell_type": "markdown",
   "id": "107b91d0-6aff-436e-8987-14974254f0de",
   "metadata": {
    "tags": []
   },
   "source": [
    "### Reserved Keywords"
   ]
  },
  {
   "cell_type": "code",
   "execution_count": null,
   "id": "7aa82089-1ebc-425d-9ab9-7a99821c3dec",
   "metadata": {},
   "outputs": [],
   "source": [
    "help(\"keywords\")\n",
    "\n",
    "\n",
    "#If you put help(\"keywords\"), it will give a list of useful words that are used in Python.\n",
    "#For Ex. Boolean operators: True and False"
   ]
  },
  {
   "cell_type": "markdown",
   "id": "04209865-8cf0-4adf-b1b8-006d9a38facb",
   "metadata": {},
   "source": [
    "Python keywords should not be used as variables. They have special meanings and functions predefined to them."
   ]
  },
  {
   "cell_type": "markdown",
   "id": "1fd011c2-231c-44fc-a57e-43faae9d2f0a",
   "metadata": {
    "tags": []
   },
   "source": [
    "### Variables"
   ]
  },
  {
   "cell_type": "markdown",
   "id": "3bde88e8-598b-4551-b811-7a4c35698afa",
   "metadata": {},
   "source": [
    "A Python variable is a symbolic name that is a reference or pointer to an object. We can think of it as a name attached to an object.\n",
    "\n",
    "Rules for Python variables:\n",
    "\n",
    "- A variable name must start with a letter or the underscore character\n",
    "- A variable name cannot start with a number\n",
    "- A variable name can only contain alpha-numeric characters and underscores (A-z, 0-9, and _ )\n",
    "- Variable names are case-sensitive (age, Age and AGE are three different variables)"
   ]
  },
  {
   "cell_type": "code",
   "execution_count": null,
   "id": "0ecfac3a-36ac-470e-8e08-b7867e3e7212",
   "metadata": {},
   "outputs": [],
   "source": [
    "item = 'Apple' # allowed\n",
    "print(item)\n",
    "\n",
    "#Follows all the 4 rules of a variable"
   ]
  },
  {
   "cell_type": "code",
   "execution_count": null,
   "id": "8323e2a7-82ee-4c3c-87ee-d38b0e3a38b2",
   "metadata": {},
   "outputs": [],
   "source": [
    "2item = 'Lenovo' # not allowed\n",
    "\n",
    "#violates the second rule for variables- A variable cannot start with a number. "
   ]
  },
  {
   "cell_type": "code",
   "execution_count": null,
   "id": "5bb09a25-a984-41e5-984b-bd852e23dd1d",
   "metadata": {},
   "outputs": [],
   "source": [
    "price_item = 200 # allowed\n",
    "print(price_item)"
   ]
  },
  {
   "cell_type": "code",
   "execution_count": null,
   "id": "21b029d1-acda-4507-9e50-830a33127826",
   "metadata": {},
   "outputs": [],
   "source": [
    "descriptionOfItem = 'Type of a laptop' # allowed\n",
    "print('Description:', descriptionOfItem)\n",
    "\n",
    "#This is allowed because it will print: Description: Type of Laptop\n"
   ]
  },
  {
   "cell_type": "code",
   "execution_count": null,
   "id": "8e6c10c5-845b-4f8e-b448-4ccbfc605725",
   "metadata": {},
   "outputs": [],
   "source": [
    "item_2 = 'Phone' # allowed\n",
    "print(item_2)"
   ]
  },
  {
   "cell_type": "markdown",
   "id": "d8d67b4d-a99e-4c00-ad71-ae9ab93839fd",
   "metadata": {
    "tags": []
   },
   "source": [
    "### Data Types"
   ]
  },
  {
   "cell_type": "markdown",
   "id": "a7f9512a-733c-4d4e-a4c9-d429b91483fb",
   "metadata": {},
   "source": [
    "Variables can store data of different types, and different types can do different things.\n",
    "\n",
    "Python has the following data types built-in by default, in these categories:\n",
    "\n",
    "Text Type: <span style=\"color:red\">str</span>\n",
    "\n",
    "#This is known as string data type\n",
    "\n",
    "Numeric Types: <span style=\"color:red\">int, float, complex</span>\n",
    "\n",
    "Boolean Type: <span style=\"color:red\">bool</span>\n"
   ]
  },
  {
   "cell_type": "code",
   "execution_count": null,
   "id": "6b62c37f-556d-4c9b-aea4-51c6f1b10f75",
   "metadata": {},
   "outputs": [],
   "source": [
    "str_example = ' Variables can store data of different types, and different types can do different things. '"
   ]
  },
  {
   "cell_type": "code",
   "execution_count": null,
   "id": "6a4caa3d-4937-4a82-b20c-cb141bd36ca3",
   "metadata": {},
   "outputs": [],
   "source": [
    "print(str_example)"
   ]
  },
  {
   "cell_type": "code",
   "execution_count": null,
   "id": "a2f6536c-0dd0-487a-aef4-4fec16829c42",
   "metadata": {},
   "outputs": [],
   "source": [
    "str_example"
   ]
  },
  {
   "cell_type": "code",
   "execution_count": null,
   "id": "3aa316d9-f6bf-453c-8378-0b59f6b84f10",
   "metadata": {},
   "outputs": [],
   "source": [
    "type(str_example) # check the data type\n",
    "\n",
    "#By using type(str_example), it will tell what type of data type it is. \n",
    "#For this example, the data type is: str (string)"
   ]
  },
  {
   "cell_type": "code",
   "execution_count": null,
   "id": "f9227cd3-832b-4430-a6f6-f62291b1892b",
   "metadata": {},
   "outputs": [],
   "source": [
    "str_example[4] # access the fifth element of the string. Note: indexing in python starts at 0.\n",
    "\n",
    "#The reason we wrote 4 instead of 5 is because in Python, indexing starts with 0.\n",
    "# space,v,a,r,i\n",
    "#i would be the 5th variable"
   ]
  },
  {
   "cell_type": "code",
   "execution_count": null,
   "id": "fae812ba-6f40-4924-8630-5114ddaf2daf",
   "metadata": {},
   "outputs": [],
   "source": [
    "str_example[0]\n",
    "\n",
    "#The 0 will be representing the space before the string of letters starts"
   ]
  },
  {
   "cell_type": "code",
   "execution_count": null,
   "id": "8cd4981e-2b4e-4656-b0b4-42b052de6b93",
   "metadata": {},
   "outputs": [],
   "source": [
    "str_example[5:]  # access all the string elements starting at the index 5 and onwards.\n",
    "\n",
    "#Will give the rest of the string after the 5th element "
   ]
  },
  {
   "cell_type": "code",
   "execution_count": null,
   "id": "82f81f15-1c44-4df4-84f4-f8f131855641",
   "metadata": {},
   "outputs": [],
   "source": [
    "str_example[:8]  # access all the string elements from start upto index 7.\n",
    "\n",
    "#It will be n-1 formula. 8-1 will. It will go up till index 7"
   ]
  },
  {
   "cell_type": "code",
   "execution_count": null,
   "id": "b253f6b9-6468-4fb0-a755-ced26b26f055",
   "metadata": {},
   "outputs": [],
   "source": [
    "str_example[-1] # access the last element of the string."
   ]
  },
  {
   "cell_type": "code",
   "execution_count": null,
   "id": "99363950-0da5-4ad3-8642-2d38edab2d53",
   "metadata": {},
   "outputs": [],
   "source": [
    "str_example[::1] # accessing the whole string in the same order as the original using the :: technique.\n",
    "\n",
    "#This code will result the string in the forward direction\n",
    "#Same as simply stating: str_example (It will provide the same result)"
   ]
  },
  {
   "cell_type": "code",
   "execution_count": null,
   "id": "d56f3254-4c80-491e-8cdf-874b374e2f62",
   "metadata": {},
   "outputs": [],
   "source": [
    "str_example"
   ]
  },
  {
   "cell_type": "code",
   "execution_count": null,
   "id": "f787553f-30a0-401e-9fba-f0ed77a3a6ec",
   "metadata": {},
   "outputs": [],
   "source": [
    "str_example[::-1] # accessing the whole string in the reverse order using the :: technique.\n",
    "\n",
    "#Gives the reverse order of the string"
   ]
  },
  {
   "cell_type": "code",
   "execution_count": null,
   "id": "cb3bd5d0-681a-4072-abbc-2c695196bb68",
   "metadata": {},
   "outputs": [],
   "source": [
    "str_example[0:30:3] # accessing the elements of the string in a specific order. start:end:stepsize\n",
    "\n",
    "#Start, end, stepsize\n",
    "#Starts at element 0 -> space\n",
    "#lists every third element until it reaches the 30th element\n"
   ]
  },
  {
   "cell_type": "code",
   "execution_count": null,
   "id": "d2879f3a-9a77-443a-b94e-ea97a8b911a5",
   "metadata": {},
   "outputs": [],
   "source": [
    "str_example[0:30:3]*3 # using the * operator on string. it repeats the sting x times.\n",
    "\n",
    "# The (*3) will repeat the string three times"
   ]
  },
  {
   "cell_type": "code",
   "execution_count": null,
   "id": "27c91d30-5dea-4c99-bbb8-4b0cdd393de2",
   "metadata": {},
   "outputs": [],
   "source": [
    "len(str_example) # get the number of characters in the string.\n",
    "\n",
    "#Gives the length of the string\n",
    "#use function: len"
   ]
  },
  {
   "cell_type": "code",
   "execution_count": null,
   "id": "3e42fa6c-42fe-4161-a85f-7d5aeaf23786",
   "metadata": {},
   "outputs": [],
   "source": [
    "str_example.strip() # get rid of spaces at the front/end.\n",
    "\n",
    "#Use function: strip to remove the space before and after the string"
   ]
  },
  {
   "cell_type": "code",
   "execution_count": null,
   "id": "b67c377e-9909-41db-b50a-8b8209fd7d8a",
   "metadata": {},
   "outputs": [],
   "source": [
    "str_example.split() \n",
    "\n",
    "# split the words by space (default) and save it in a list.\n",
    "\n",
    "# Splits the stored item into seperate words like a list"
   ]
  },
  {
   "cell_type": "code",
   "execution_count": null,
   "id": "5816c77a-7060-4f59-b810-ef501f4a0a44",
   "metadata": {},
   "outputs": [],
   "source": [
    "str_example"
   ]
  },
  {
   "cell_type": "code",
   "execution_count": null,
   "id": "d943d85d-a083-449f-8fd7-a052f177131e",
   "metadata": {},
   "outputs": [],
   "source": [
    "str_example.replace('types,', 'type') \n",
    "\n",
    "#In cell 28, you can see the entire string. \n",
    "#If you want to remove a single word or replace a word, use: function: replace\n",
    "# replace 'types' with 'type'"
   ]
  },
  {
   "cell_type": "code",
   "execution_count": null,
   "id": "002b1bbc-84d7-4c4e-bad3-beb967dcafb3",
   "metadata": {},
   "outputs": [],
   "source": [
    "str_example.upper() \n",
    "\n",
    "# change the string to uppercase"
   ]
  },
  {
   "cell_type": "code",
   "execution_count": null,
   "id": "fef254f0-4561-4047-b818-754fcfc8986a",
   "metadata": {},
   "outputs": [],
   "source": [
    "str_example.lower().strip() \n",
    "\n",
    "# change the string to lowercase, and also strip the front/end spaces."
   ]
  },
  {
   "cell_type": "code",
   "execution_count": null,
   "id": "9f807918-80ae-488f-aa0d-755983d600f3",
   "metadata": {},
   "outputs": [],
   "source": [
    "str_example.find('s') \n",
    "\n",
    "# find the index of the character 's' in the string.\n",
    "# 's' is the 9th character"
   ]
  },
  {
   "cell_type": "code",
   "execution_count": null,
   "id": "b9aac5ee-453c-4734-b2b9-c6483f107749",
   "metadata": {},
   "outputs": [],
   "source": [
    "str_example.count('e') \n",
    "\n",
    "# count the frequency of 'e' in the string.\n",
    "# Shows how many \"e\" there is in the entire string"
   ]
  },
  {
   "cell_type": "code",
   "execution_count": null,
   "id": "67308a09-9727-4361-b24d-dea38d2cdc85",
   "metadata": {},
   "outputs": [],
   "source": [
    "# string formatting\n",
    "str1 = 'Python'\n",
    "str2 = 'for'\n",
    "str3 = 'Data Science'\n",
    "\n",
    "#The below is what we want:\n",
    "# 'Course title: Python for Data Science!'\n",
    "\n",
    "print('Course title: ' + str1 + ' ' + str2 + ' ' + str3 + '!')\n",
    "print(f'Course title: {str1} {str2} {str3}!')\n",
    "print('Course title: %s %s %s!' %(str1, str2, str3))\n",
    "print('Course title: {} {} {}!'.format(str1, str2, str3))"
   ]
  },
  {
   "cell_type": "code",
   "execution_count": null,
   "id": "0a9c6d22-7bdb-45ce-83d8-fb9768610dd7",
   "metadata": {},
   "outputs": [],
   "source": []
  },
  {
   "cell_type": "code",
   "execution_count": null,
   "id": "b9525cb3-2825-48ed-8996-e1a4d2f0449a",
   "metadata": {},
   "outputs": [],
   "source": [
    "x = 10\n",
    "y = 5.5\n",
    "is_true = True\n",
    "print('x = {}'.format(x))\n",
    "print('y = {}'.format(y))\n",
    "print('is_true = {}'.format(is_true))\n",
    "\n",
    "#The number of curly braces represents the number of things in a list."
   ]
  },
  {
   "cell_type": "code",
   "execution_count": null,
   "id": "954c12d2-0df5-4cab-ae7b-90fbe2f7ebcf",
   "metadata": {},
   "outputs": [],
   "source": [
    "type(x)\n",
    "\n",
    "#This function gives the data type"
   ]
  },
  {
   "cell_type": "code",
   "execution_count": null,
   "id": "2afc6153-deb6-4d67-a21d-8d9c5ee5531c",
   "metadata": {},
   "outputs": [],
   "source": [
    "type(y)\n",
    "\n",
    "# Float= Represents a floating-point or decimal number"
   ]
  },
  {
   "cell_type": "code",
   "execution_count": null,
   "id": "5af15c75-30a8-4549-8fe2-7f22b6af465a",
   "metadata": {},
   "outputs": [],
   "source": [
    "type(is_true)\n",
    "\n",
    "#Represents Boolean (True/False)"
   ]
  },
  {
   "cell_type": "markdown",
   "id": "fdb4c7ae-6ee3-44b0-b0e7-e39d7adf072a",
   "metadata": {
    "tags": []
   },
   "source": [
    "### 1.4 Arithmatic operations"
   ]
  },
  {
   "attachments": {
    "a468d836-bd4e-4704-a6b7-4ea7229189ce.png": {
     "image/png": "[encoded data removed]"
    }
   },
   "cell_type": "markdown",
   "id": "8c007874-903b-4d2a-ac89-d44b7fc91fcb",
   "metadata": {},
   "source": [
    "![image.png](attachment:a468d836-bd4e-4704-a6b7-4ea7229189ce.png)"
   ]
  },
  {
   "cell_type": "code",
   "execution_count": null,
   "id": "4f10c282-b73e-4d30-9436-171124018c42",
   "metadata": {},
   "outputs": [],
   "source": [
    "total_x_y = x + y\n",
    "print('total of x and y: {}'.format(total_x_y))\n",
    "\n",
    "# x=10\n",
    "# y=5.5"
   ]
  },
  {
   "cell_type": "code",
   "execution_count": null,
   "id": "01f75824-61c8-4075-9230-af309a738d3a",
   "metadata": {},
   "outputs": [],
   "source": [
    "type(total_x_y)\n",
    "\n",
    "# The result is 15.5 which is a decimal (hence: float)"
   ]
  },
  {
   "cell_type": "code",
   "execution_count": null,
   "id": "54e0eb42-6137-4769-b281-1be4376747d3",
   "metadata": {},
   "outputs": [],
   "source": [
    "x - y"
   ]
  },
  {
   "cell_type": "code",
   "execution_count": null,
   "id": "71f6280b-75c1-4e2f-90e4-04f9774beaf9",
   "metadata": {},
   "outputs": [],
   "source": [
    "x * y"
   ]
  },
  {
   "cell_type": "code",
   "execution_count": null,
   "id": "4092a300-df00-49a2-9085-0a364bcee1b5",
   "metadata": {},
   "outputs": [],
   "source": [
    "x / y"
   ]
  },
  {
   "cell_type": "code",
   "execution_count": null,
   "id": "4ecff21a-979a-4626-8832-5c5ed382a691",
   "metadata": {},
   "outputs": [],
   "source": [
    "x // y\n",
    "\n",
    "# (10/5.5)\n",
    "# The maximum times that 5.5 can go into 10 is 1\n",
    "# Hence, the answer is 1"
   ]
  },
  {
   "cell_type": "code",
   "execution_count": null,
   "id": "b85846fc-37da-48a6-9edf-e8877bb7c507",
   "metadata": {},
   "outputs": [],
   "source": [
    "x % y \n",
    "\n",
    "# Refers to the remainder part of the division"
   ]
  },
  {
   "cell_type": "code",
   "execution_count": null,
   "id": "0968aa53-5e04-47fe-9531-374eacbc030f",
   "metadata": {},
   "outputs": [],
   "source": [
    "x ** y\n",
    "\n",
    "# 10^(5.5)"
   ]
  },
  {
   "cell_type": "code",
   "execution_count": null,
   "id": "5b003ab8-7820-4785-9fd9-a52b253eadb8",
   "metadata": {},
   "outputs": [],
   "source": []
  },
  {
   "cell_type": "markdown",
   "id": "430e17f1-07c3-428a-a345-88509932788d",
   "metadata": {},
   "source": [
    "## Data Structures"
   ]
  },
  {
   "cell_type": "markdown",
   "id": "0cf18439-c4d2-4665-bd92-382f9d76f797",
   "metadata": {
    "tags": []
   },
   "source": [
    "### List\n",
    "\n",
    "Lists are used to store the data items inside square brakets [] where each data item is separated by (,)"
   ]
  },
  {
   "cell_type": "code",
   "execution_count": null,
   "id": "5983de5e-e848-4b6d-a1ba-ea75c549a40c",
   "metadata": {},
   "outputs": [],
   "source": [
    "# create a list of first five alphabets\n",
    "\n",
    "alphabet_list = ['a', 'b', 'c', 'd', 'e']"
   ]
  },
  {
   "cell_type": "code",
   "execution_count": null,
   "id": "4081a082-b669-4246-b8b0-a19027862f7f",
   "metadata": {},
   "outputs": [],
   "source": [
    "alphabet_list"
   ]
  },
  {
   "cell_type": "code",
   "execution_count": null,
   "id": "fa3e3762-384d-4f5e-a299-3a7be33f6f6d",
   "metadata": {},
   "outputs": [],
   "source": [
    "len(alphabet_list) \n",
    "\n",
    "# length of list"
   ]
  },
  {
   "cell_type": "code",
   "execution_count": null,
   "id": "a6f021cc-c137-49ea-8201-1309b616a88c",
   "metadata": {},
   "outputs": [],
   "source": [
    "# get the first item of the list\n",
    "alphabet_list[0] \n",
    "\n",
    "# index in python starts from 0, so the first item is accessed by the index 0."
   ]
  },
  {
   "cell_type": "code",
   "execution_count": null,
   "id": "6d128369-a30f-4f04-af82-5064b3f1eb04",
   "metadata": {},
   "outputs": [],
   "source": [
    "# get the third item of the list\n",
    "alphabet_list[2]"
   ]
  },
  {
   "cell_type": "code",
   "execution_count": null,
   "id": "7ea0f586-ecaf-4f40-b08c-17aac4b1ad57",
   "metadata": {},
   "outputs": [],
   "source": [
    "# get the second, third and fourth item of the list\n",
    "\n",
    "alphabet_list[1:4]\n",
    "\n",
    "# Starts from (element 1: b) and does not include (element 4: e)\n"
   ]
  },
  {
   "cell_type": "markdown",
   "id": "437b3525-bb33-411b-bb71-e624cc342dfe",
   "metadata": {},
   "source": [
    "- lists are mutable, i.e., we can change an item in a list by accessing it directly as part of the assignment statement. Using the indexing operator (square brackets) on the left side of an assignment, we can update one of the list items."
   ]
  },
  {
   "cell_type": "code",
   "execution_count": null,
   "id": "56d91beb-0028-4750-8fcc-a28b555b8f31",
   "metadata": {},
   "outputs": [],
   "source": [
    "# update the first item of the list to 'z'\n",
    "alphabet_list[0] = 'z'"
   ]
  },
  {
   "cell_type": "code",
   "execution_count": null,
   "id": "5c2931ca-3cd3-43a5-90d3-0a70680ced61",
   "metadata": {},
   "outputs": [],
   "source": [
    "(alphabet_list)"
   ]
  },
  {
   "cell_type": "code",
   "execution_count": null,
   "id": "da77d753-9207-45dd-a25d-ee97e84427f0",
   "metadata": {},
   "outputs": [],
   "source": [
    "# add a new item 'f' to the list\n",
    "alphabet_list = alphabet_list + ['f']\n",
    "alphabet_list"
   ]
  },
  {
   "cell_type": "markdown",
   "id": "c2c37b7e-2fa2-4221-a19b-cf5bdd69afce",
   "metadata": {},
   "source": [
    "- lists can contain items of different data types"
   ]
  },
  {
   "cell_type": "code",
   "execution_count": null,
   "id": "5a6896c2-2438-4269-9ed5-82c3598b6909",
   "metadata": {},
   "outputs": [],
   "source": [
    "# add a new item 7 to the list\n",
    "alphabet_list.append(7)\n",
    "\n",
    "#This .append() function ADDS an element to a list"
   ]
  },
  {
   "cell_type": "code",
   "execution_count": null,
   "id": "a9e9227a-a0b8-4999-bd2d-70e7aaa0902b",
   "metadata": {},
   "outputs": [],
   "source": [
    "alphabet_list"
   ]
  },
  {
   "cell_type": "code",
   "execution_count": null,
   "id": "3c49e3c1-fe7f-4383-adb3-b504ce2a94b1",
   "metadata": {},
   "outputs": [],
   "source": [
    "alphabet_list.append(8)\n",
    "alphabet_list.append(9.0)\n",
    "alphabet_list.append(True)\n",
    "alphabet_list.append(False)\n",
    "\n",
    "#The above list of items will be ADDED to the existing list"
   ]
  },
  {
   "cell_type": "code",
   "execution_count": null,
   "id": "e9a82f7f-8cdf-430b-990f-18f07828753c",
   "metadata": {},
   "outputs": [],
   "source": [
    "alphabet_list"
   ]
  },
  {
   "cell_type": "code",
   "execution_count": null,
   "id": "d9356ac8-c336-4d36-9e36-f3d2661f592f",
   "metadata": {},
   "outputs": [],
   "source": [
    "# create a list of some numbers\n",
    "num_list = [4,2,5,7,9,3,10]\n",
    "num_list"
   ]
  },
  {
   "cell_type": "code",
   "execution_count": null,
   "id": "ed2ca6d3-2768-46ea-a88a-d16b9079ac85",
   "metadata": {},
   "outputs": [],
   "source": [
    "min(num_list) # find the minimum of the list"
   ]
  },
  {
   "cell_type": "code",
   "execution_count": null,
   "id": "e3e4425b-1dfd-42e7-a677-f048190f94de",
   "metadata": {},
   "outputs": [],
   "source": [
    "max(num_list) # find the maximum of the list"
   ]
  },
  {
   "cell_type": "code",
   "execution_count": null,
   "id": "4a386a58-2a3f-4df6-9ac5-dd448c320bff",
   "metadata": {},
   "outputs": [],
   "source": [
    "num_list = sorted(num_list) \n",
    "\n",
    "# sort the list (ascending by default)\n",
    "\n",
    "# num_list = sorted(num_list, reverse = FALSE) "
   ]
  },
  {
   "cell_type": "code",
   "execution_count": null,
   "id": "ffc9a4dc-0557-490f-8867-324c9f4d9fdc",
   "metadata": {},
   "outputs": [],
   "source": [
    "num_list"
   ]
  },
  {
   "cell_type": "code",
   "execution_count": null,
   "id": "a668b51c",
   "metadata": {},
   "outputs": [],
   "source": [
    "num_list = sorted(num_list, reverse = True)\n",
    "\n",
    "#This will give the list in descending order"
   ]
  },
  {
   "cell_type": "code",
   "execution_count": null,
   "id": "aa64089d",
   "metadata": {},
   "outputs": [],
   "source": [
    "num_list"
   ]
  },
  {
   "cell_type": "code",
   "execution_count": null,
   "id": "fd1f06b7",
   "metadata": {},
   "outputs": [],
   "source": [
    "num_list = sorted(num_list) "
   ]
  },
  {
   "cell_type": "code",
   "execution_count": null,
   "id": "f49ef744-b776-4989-9de1-3c32d4b20844",
   "metadata": {},
   "outputs": [],
   "source": [
    "num_list = [4,2,5,7,9,3,10]"
   ]
  },
  {
   "cell_type": "code",
   "execution_count": null,
   "id": "dbb6abda-4a61-4e42-b3a0-e188f72bd313",
   "metadata": {},
   "outputs": [],
   "source": [
    "num_list"
   ]
  },
  {
   "cell_type": "code",
   "execution_count": null,
   "id": "af3b0ba7-1220-4236-a046-f3f5092c370d",
   "metadata": {},
   "outputs": [],
   "source": [
    "num_list.index(5) # find the index of the item 5\n",
    "\n",
    "# 4 would be index 0\n",
    "# 2 would be index 1\n",
    "# 5 would be index 2"
   ]
  },
  {
   "cell_type": "code",
   "execution_count": null,
   "id": "79b0dc04-60f3-4c4d-ab39-837f6c2e89ff",
   "metadata": {},
   "outputs": [],
   "source": [
    "sum(num_list) \n",
    "\n",
    "# add all the numbers in the list"
   ]
  },
  {
   "cell_type": "code",
   "execution_count": null,
   "id": "74f59ed4-15d9-46e9-855d-d18d5b63ecc2",
   "metadata": {},
   "outputs": [],
   "source": [
    "type(num_list)"
   ]
  },
  {
   "cell_type": "code",
   "execution_count": null,
   "id": "e64054a9-82c8-48fc-8126-91ad617a1a93",
   "metadata": {},
   "outputs": [],
   "source": [
    "# insert 9 at the third place of the list\n",
    "num_list.insert(2, 9) \n",
    "\n",
    "# third place is indicated by index 2, as index starts at 0."
   ]
  },
  {
   "cell_type": "code",
   "execution_count": null,
   "id": "d1bea280-68d6-4283-b52a-7324bb406924",
   "metadata": {},
   "outputs": [],
   "source": [
    "num_list"
   ]
  },
  {
   "cell_type": "code",
   "execution_count": null,
   "id": "7b9c5725-951f-41af-9776-68095b8580a8",
   "metadata": {},
   "outputs": [],
   "source": [
    "# remove the last item from the list\n",
    "\n",
    "num_list.pop()"
   ]
  },
  {
   "cell_type": "code",
   "execution_count": null,
   "id": "6ece8bc2-0cee-4fce-9c12-6f77a71f0ab4",
   "metadata": {},
   "outputs": [],
   "source": [
    "num_list"
   ]
  },
  {
   "cell_type": "code",
   "execution_count": null,
   "id": "e922c114-9e6d-4fc3-85b8-b97370f76434",
   "metadata": {},
   "outputs": [],
   "source": [
    "# remove the item 5 from the list\n",
    "\n",
    "num_list.remove(5)\n",
    "num_list"
   ]
  },
  {
   "cell_type": "code",
   "execution_count": null,
   "id": "461b5e35-21bf-433d-9d5d-995fc103ad7b",
   "metadata": {},
   "outputs": [],
   "source": [
    "# if there are multiple occurrance of items, 'remove' will remove the first one.\n",
    "\n",
    "num_list.remove(9)\n",
    "num_list"
   ]
  },
  {
   "cell_type": "markdown",
   "id": "24eab22b-d2ce-47d4-a159-b91aa16213ff",
   "metadata": {
    "tags": []
   },
   "source": [
    "### Tuple\n",
    "\n",
    "Tuples are another type of data structures that can store data items. Unlike lists, tuples are immutable, i.e., once they are created, they cannot be modified. This feature can be specially helpful if we wanted to create a store some data that should not be altered."
   ]
  },
  {
   "cell_type": "code",
   "execution_count": null,
   "id": "ec331d4e-3d62-4800-89f7-d80bfc57dd90",
   "metadata": {},
   "outputs": [],
   "source": [
    "days_of_week = ('Monday', 'Tuesday', 'Wednesday', 'Thursday', 'Friday', 'Saturday', 'Sunday')"
   ]
  },
  {
   "cell_type": "code",
   "execution_count": null,
   "id": "95163044-2d54-4c9c-a08e-06377cfc2ebd",
   "metadata": {},
   "outputs": [],
   "source": [
    "days_of_week"
   ]
  },
  {
   "cell_type": "code",
   "execution_count": null,
   "id": "c9977da4-ed0e-4a66-8df6-f8f10d4f43fc",
   "metadata": {},
   "outputs": [],
   "source": [
    "type(days_of_week)"
   ]
  },
  {
   "cell_type": "code",
   "execution_count": null,
   "id": "346a5177-e9cd-4039-8f96-01590f6eb6ba",
   "metadata": {},
   "outputs": [],
   "source": [
    "# access the ith element of the tuple\n",
    "days_of_week[2]"
   ]
  },
  {
   "cell_type": "code",
   "execution_count": null,
   "id": "29f07dae-0f40-4663-8740-cc1f79430da4",
   "metadata": {},
   "outputs": [],
   "source": [
    "days_of_week[2:6]"
   ]
  },
  {
   "cell_type": "code",
   "execution_count": null,
   "id": "2018bf0c-9c1c-483a-9331-76116a8147ba",
   "metadata": {},
   "outputs": [],
   "source": [
    "# access the last element of the tuple\n",
    "days_of_week[-1]"
   ]
  },
  {
   "cell_type": "code",
   "execution_count": null,
   "id": "9dc5e9b1-f944-4139-bb0d-313faa1f3e1e",
   "metadata": {},
   "outputs": [],
   "source": [
    "# modifying the values of the tuple is not allowed\n",
    "days_of_week[0] = 'MONDAY'\n",
    "\n",
    "#The original tuple had 'Monday', you cannot change it to 'MONDAY'"
   ]
  },
  {
   "cell_type": "code",
   "execution_count": null,
   "id": "6fb1f712-8afa-4700-993b-77dbdc604a96",
   "metadata": {},
   "outputs": [],
   "source": [
    "# adding a new item to an already defined tuple is not allowed\n",
    "days_of_week + ('MONDAY')\n",
    "\n",
    "# Cannot add a new item to the list"
   ]
  },
  {
   "cell_type": "markdown",
   "id": "d334f8a9-58e7-41d4-84f6-e06fcd05b861",
   "metadata": {
    "tags": []
   },
   "source": [
    "### Dictionary\n",
    "\n",
    "Dictionary are collection of key:value pairs. They are useful to store additional information that might be difficult to store in lists."
   ]
  },
  {
   "cell_type": "code",
   "execution_count": null,
   "id": "7b347703-eb94-44c8-ac0b-d110cec72ba9",
   "metadata": {},
   "outputs": [],
   "source": [
    "week_days = {'Monday': 1, 'Tuesday': 2, 'Wednesday': 3, 'Thursday': 4,\n",
    "             'Friday': 5, 'Saturday': 6}"
   ]
  },
  {
   "cell_type": "code",
   "execution_count": null,
   "id": "01d64cc2-53d0-4502-b9c8-ac7f4eb9d946",
   "metadata": {},
   "outputs": [],
   "source": [
    "week_days"
   ]
  },
  {
   "cell_type": "code",
   "execution_count": null,
   "id": "193c5549-c500-4823-9977-11caf58edbfc",
   "metadata": {},
   "outputs": [],
   "source": [
    "type(week_days)"
   ]
  },
  {
   "cell_type": "code",
   "execution_count": null,
   "id": "4e03d7cc-3bd9-423a-81e1-4555b6a45aa5",
   "metadata": {},
   "outputs": [],
   "source": [
    "# get all the keys of the dictionary\n",
    "\n",
    "week_days.keys()"
   ]
  },
  {
   "cell_type": "code",
   "execution_count": null,
   "id": "6faa4d5f-81b5-4637-b868-b53d94e3284e",
   "metadata": {},
   "outputs": [],
   "source": [
    "# get all the values of the dictionary\n",
    "\n",
    "week_days.values()"
   ]
  },
  {
   "cell_type": "code",
   "execution_count": null,
   "id": "03f58a36-0492-4230-a529-148b2e6d3cb4",
   "metadata": {},
   "outputs": [],
   "source": [
    "# accessing the items of dictionary are directly done by using the keys\n",
    "# which day of the week is 'Wednesday'?\n",
    "week_days['Wednesday']"
   ]
  },
  {
   "cell_type": "markdown",
   "id": "a0d7f7eb-ee6f-48df-bfca-d23afb3a8fc2",
   "metadata": {},
   "source": [
    "Dictionaries are mutable, so we can add new key:value pairs and modified the existing values."
   ]
  },
  {
   "cell_type": "code",
   "execution_count": null,
   "id": "c336b19c-2d94-445e-94aa-e3b0d85315dc",
   "metadata": {},
   "outputs": [],
   "source": [
    "# add Sunday as day 7 of the week in the dictionary\n",
    "week_days['Sunday'] = 7"
   ]
  },
  {
   "cell_type": "code",
   "execution_count": null,
   "id": "a5f691fa-a4f2-4f75-a85d-d2bfa8be73b4",
   "metadata": {},
   "outputs": [],
   "source": [
    "print(week_days)"
   ]
  },
  {
   "cell_type": "code",
   "execution_count": null,
   "id": "a654bf08-2a04-4d8d-a529-56ae3b053a5d",
   "metadata": {},
   "outputs": [],
   "source": [
    "week_days['MONDAY'] \n",
    "\n",
    "# tying to access an unavailable key- IT DOESNT INITIALLY EXIST"
   ]
  },
  {
   "cell_type": "code",
   "execution_count": null,
   "id": "581c4bbd-44c1-4396-9fd8-53cf61eb9694",
   "metadata": {},
   "outputs": [],
   "source": [
    "# create a dictionary with information of different cars\n",
    "vehicle_info = {\n",
    "    \"brand\": ['Honda','Toyota','BMW'],\n",
    "    \"model\": ['Civic','RAV4','M5'],\n",
    "    \"year\": [1995, 2017, 2022]\n",
    "}"
   ]
  },
  {
   "cell_type": "code",
   "execution_count": null,
   "id": "a54a8d4b-45a8-4437-a395-18638fa3879a",
   "metadata": {},
   "outputs": [],
   "source": [
    "vehicle_info"
   ]
  },
  {
   "cell_type": "code",
   "execution_count": null,
   "id": "0ccbfc84-5b4c-4787-92f5-a9a7e290a793",
   "metadata": {},
   "outputs": [],
   "source": [
    "vehicle_info['brand']"
   ]
  },
  {
   "cell_type": "code",
   "execution_count": null,
   "id": "6edac6ae-922b-4d7c-8a33-8190192ac803",
   "metadata": {},
   "outputs": [],
   "source": [
    "vehicle_info['model']"
   ]
  },
  {
   "cell_type": "code",
   "execution_count": null,
   "id": "1469da76-cc08-4b25-a242-e218bbdc8ee0",
   "metadata": {},
   "outputs": [],
   "source": [
    "vehicle_info.keys()"
   ]
  },
  {
   "cell_type": "code",
   "execution_count": null,
   "id": "2e111c5f-aed2-4570-a629-bb11ab3c8d36",
   "metadata": {},
   "outputs": [],
   "source": [
    "vehicle_info.values()"
   ]
  },
  {
   "cell_type": "code",
   "execution_count": null,
   "id": "09d5d178-1c0c-4b82-ba47-a697d62751ae",
   "metadata": {},
   "outputs": [],
   "source": [
    "vehicle_info.items()"
   ]
  },
  {
   "cell_type": "markdown",
   "id": "9927955d-4dae-4959-a890-e2a74057b4ec",
   "metadata": {
    "tags": []
   },
   "source": [
    "## Conditional Statements\n",
    "\n",
    "The if-else statement in Python can be used for decision-making. The general syntax of an if-else statement is:\n",
    "\n",
    "```\n",
    "if (test expression):\n",
    "    Body of if\n",
    "else:\n",
    "    Body of else\n",
    "```\n",
    "\n",
    "Python is a tabbed based language, so we need to be VERY careful about tabs!!!"
   ]
  },
  {
   "cell_type": "code",
   "execution_count": null,
   "id": "3261a312-5f80-4d55-9791-85b14a4223c6",
   "metadata": {},
   "outputs": [],
   "source": [
    "# based on the input (day # of week) from the user, determine if it is a weekday or a weekend\n",
    "\n",
    "input_day = int(input('Enter the day number of the week: '))\n",
    "\n",
    "day = list(week_days.keys())[list(week_days.values()).index(input_day)]\n",
    "\n",
    "# if-else statment\n",
    "\n",
    "if input_day <= 5:\n",
    "    print('It is a weekday ({}).'.format(day))\n",
    "else:\n",
    "    print('It is a weekend ({}).'.format(day))"
   ]
  },
  {
   "cell_type": "markdown",
   "id": "064068b9-0042-4748-8cc9-5062dba52820",
   "metadata": {},
   "source": [
    "If there are multiple conditions, we may use another conditional statement called if-elif-else statement. The general syntax of the if-elif-else statement is:\n",
    "\n",
    "```\n",
    "if (test expression):\n",
    "    Body of if\n",
    "elif (test expression):\n",
    "    Body of elif\n",
    "else: \n",
    "    Body of else\n",
    "```"
   ]
  },
  {
   "cell_type": "code",
   "execution_count": null,
   "id": "ded70616-0762-436f-a72d-dedca7d648f8",
   "metadata": {},
   "outputs": [],
   "source": [
    "input_day = int(input('Enter the day number of the week: '))\n",
    "\n",
    "# if-else statment\n",
    "if input_day == 1:\n",
    "    print('It is a weekday ({}).'.format('Monday'))\n",
    "elif input_day == 2:\n",
    "    print('It is a weekday ({}).'.format('Tuesday'))\n",
    "elif input_day == 3:\n",
    "    print('It is a weekday ({}).'.format('Wednesday'))\n",
    "elif input_day == 4:\n",
    "    print('It is a weekday ({}).'.format('Thursday'))\n",
    "elif input_day == 5:\n",
    "    print('It is a weekday ({}).'.format('Friday'))\n",
    "elif input_day == 6:\n",
    "    print('It is a weekend ({}).'.format('Saturday'))\n",
    "else:\n",
    "    print('It is a weekend ({}).'.format('Sunday'))"
   ]
  },
  {
   "cell_type": "markdown",
   "id": "7f2e6d34-d03f-47e8-a8cf-672e92c06b22",
   "metadata": {
    "tags": []
   },
   "source": [
    "## Looping Statements\n",
    "\n",
    "Loops are used in Python to iterate over a sequence.\n",
    "\n",
    "The syntax of the 'for loop' is:\n",
    "\n",
    "```\n",
    "for iterator_var in sequence:\n",
    "    statements(s)\n",
    "```\n"
   ]
  },
  {
   "cell_type": "markdown",
   "id": "38d655ee-dd37-4026-b3c1-56b56f959497",
   "metadata": {},
   "source": [
    "Before jumping into the concept of looping, let's have a look at the range() function in Python.\n",
    "\n",
    "The range() method returns an immutable sequence of numbers between the given start integer to the stop integer."
   ]
  },
  {
   "cell_type": "code",
   "execution_count": null,
   "id": "32fad9af-8c27-44c7-95b5-5d28872e80d7",
   "metadata": {},
   "outputs": [],
   "source": [
    "print(range(11))"
   ]
  },
  {
   "cell_type": "code",
   "execution_count": null,
   "id": "4bcb7ec2-ccae-478d-b6a8-416af773189a",
   "metadata": {},
   "outputs": [],
   "source": [
    "print(list(range(11)))"
   ]
  },
  {
   "cell_type": "code",
   "execution_count": null,
   "id": "d280fbef-6119-4473-9046-1247408d2f59",
   "metadata": {},
   "outputs": [],
   "source": [
    "print(list(range(4, 12, 2)))"
   ]
  },
  {
   "cell_type": "code",
   "execution_count": null,
   "id": "d89f4bf7-bfb8-4d7a-9396-fbf133d4bbe6",
   "metadata": {},
   "outputs": [],
   "source": [
    "# print the multiple table of 3.\n",
    "for i in range(1, 21):\n",
    "    print('3 x {} = {}'.format(i, 3*i))"
   ]
  },
  {
   "cell_type": "code",
   "execution_count": null,
   "id": "f16a0157-49a1-4d17-bd72-79a4684d5efa",
   "metadata": {},
   "outputs": [],
   "source": [
    "num_list"
   ]
  },
  {
   "cell_type": "code",
   "execution_count": null,
   "id": "dd7ad9dc-3baa-4c67-ac1f-b02e10cfc1e8",
   "metadata": {},
   "outputs": [],
   "source": [
    "# calculate the square of each item of num_list\n",
    "for item in num_list:\n",
    "    squared = item**2\n",
    "    print(squared)"
   ]
  },
  {
   "cell_type": "code",
   "execution_count": null,
   "id": "a3520ade-8de6-4ba2-8ee1-a7b84b003316",
   "metadata": {},
   "outputs": [],
   "source": [
    "# calculate the square of each item of num_list and save them into a new list\n",
    "squared_num_list = []\n",
    "for item in num_list:\n",
    "    squared = item**2\n",
    "    squared_num_list.append(squared)"
   ]
  },
  {
   "cell_type": "code",
   "execution_count": null,
   "id": "48d96e52-b428-436a-9549-070f87ccccde",
   "metadata": {},
   "outputs": [],
   "source": [
    "print(squared_num_list)"
   ]
  },
  {
   "cell_type": "markdown",
   "id": "8b29abfe-d3f1-4d69-9abe-dbbf051bafd9",
   "metadata": {
    "tags": []
   },
   "source": [
    "## List Comprehensions\n",
    "\n",
    "An equivalent way of obtaining the same result as above is by suing **list comprehensions**.\n",
    "\n",
    "* List comprehension is a type of control structure for creating a list from an existing iterable (like tuples, strings, arrays, lists, etc).\n",
    "* They offer a shorter and more appealing syntax and are often faster than explicit for loops in creating a list from an existing iterable."
   ]
  },
  {
   "cell_type": "code",
   "execution_count": null,
   "id": "2c55220b-03e5-4925-99d9-1fa1fde8cd91",
   "metadata": {},
   "outputs": [],
   "source": [
    "squared_num_list_2 = [item**2 for item in num_list]\n",
    "print(squared_num_list_2)"
   ]
  },
  {
   "cell_type": "markdown",
   "id": "b1f50833-526b-4b47-b3e3-6d6da3602b92",
   "metadata": {},
   "source": [
    "Let's breakdown the syntax of the above list comprehension. There are three parts:\n",
    "1. `[ ]`: The outer square brackets tells that we are creating a list\n",
    "2. `item**2`: The expression to evaluate or the computation to perform\n",
    "3. `for item in num_list`: The iterable from which elements (item) will be fetched"
   ]
  },
  {
   "cell_type": "markdown",
   "id": "373e0ecc-5ec3-419f-919d-06ee0ae5c9b4",
   "metadata": {
    "tags": []
   },
   "source": [
    "## Write a program to count the number of digits 0 in a positive integer."
   ]
  },
  {
   "cell_type": "code",
   "execution_count": null,
   "id": "d3eb7c05-7b7f-44a4-ba56-8a3aebbc6c3b",
   "metadata": {},
   "outputs": [],
   "source": [
    "x = 103950600403\n",
    "x_str = str(x)\n",
    "\n",
    "#x_str.count('0')\n",
    "\n",
    "# for character in x_str:\n",
    "#     print(character)\n",
    "\n",
    "counter = 0\n",
    "for character in x_str:       # iterate over all the characters of x_str\n",
    "    if character == '0':      # check if the character is '0'\n",
    "        counter = counter + 1 # if true, increase the counter by 1\n",
    "        \n",
    "print('There are {} 0s in {}.'.format(counter,x))"
   ]
  },
  {
   "cell_type": "markdown",
   "id": "00194d21-e850-487b-9440-b3b0075efcd4",
   "metadata": {
    "tags": []
   },
   "source": [
    "## Functions\n",
    "\n",
    "**What is a Function in Python?**\n",
    "\n",
    "In Python, a function is a block of instructions that performs a specific task.\n",
    "\n",
    "We have already seen a few functions in python.  min and max were functions that found the minimum and maximum numbers in a list!\n",
    "\n",
    "In Python, we can also define our own functions! We don't have to rely on the ones that are already there.\n",
    "\n",
    "Functions break the program into modular chunks which can be reused later. Functions are used to make the program more organized and manageable.\n",
    "\n",
    "\n",
    "**Syntax of a function**\n",
    "\n",
    "Functions that users define themselves to a particular task are referred to as user-defined functions.\n",
    "\n",
    "```\n",
    "def function_name(parameters):\n",
    "\t'''explain what a function does'''\n",
    "\tstatement(s)\n",
    "```"
   ]
  },
  {
   "cell_type": "code",
   "execution_count": null,
   "id": "757c2dc0-6be0-4a84-803d-f0ad01cafee7",
   "metadata": {},
   "outputs": [],
   "source": [
    "# write a function that displays some information about this course.\n",
    "def course_info():\n",
    "    course_title = 'Programming for Data Science'\n",
    "    modality = 'online'\n",
    "    credits = 3\n",
    "    print('The title of this course is \"{}\". It is a {} credit {} course.'.format(course_title, credits, modality))"
   ]
  },
  {
   "cell_type": "code",
   "execution_count": null,
   "id": "3de6db16-8de2-4917-bf59-3e52dce1a4ec",
   "metadata": {},
   "outputs": [],
   "source": [
    "# call the function\n",
    "course_info()"
   ]
  },
  {
   "cell_type": "markdown",
   "id": "006054f5-4bf7-4efd-9d14-fd510a67cf38",
   "metadata": {
    "jp-MarkdownHeadingCollapsed": true,
    "tags": []
   },
   "source": [
    "### Functions with arguments"
   ]
  },
  {
   "cell_type": "code",
   "execution_count": null,
   "id": "d7991cfd-b686-4734-8c50-9f6c20a1de2c",
   "metadata": {},
   "outputs": [],
   "source": [
    "# write a function that takes two numbers as arguments and then multiplies them.\n",
    "def multiply_2_numbers(x, y):\n",
    "    result = x * y\n",
    "    print(result)"
   ]
  },
  {
   "cell_type": "code",
   "execution_count": null,
   "id": "64734ee1-b033-4775-859d-e44118b144bb",
   "metadata": {},
   "outputs": [],
   "source": [
    "multiply_2_numbers(3, 5)"
   ]
  },
  {
   "cell_type": "markdown",
   "id": "5e149bfb-0be7-46c0-aa4c-e04e132a24b5",
   "metadata": {},
   "source": [
    "The above function multiplies two numbers and **prints** the result. But it doesn not return the result. So, we won't be able to store it into a new variable."
   ]
  },
  {
   "cell_type": "code",
   "execution_count": null,
   "id": "8b23b5c2-b188-4fad-9100-47ceaa775a6d",
   "metadata": {},
   "outputs": [],
   "source": [
    "x_times_y = multiply_2_numbers(4, 5)"
   ]
  },
  {
   "cell_type": "code",
   "execution_count": null,
   "id": "f7a2f402-e397-4310-bb1d-991100ee686a",
   "metadata": {},
   "outputs": [],
   "source": [
    "print(x_times_y)"
   ]
  },
  {
   "cell_type": "markdown",
   "id": "baa34efb-0d35-448a-bc29-0e851eb4db3d",
   "metadata": {},
   "source": [
    "**What is a return statement?**\n",
    "\n",
    "The return statement is used to exit a function and also returns the output."
   ]
  },
  {
   "cell_type": "code",
   "execution_count": null,
   "id": "21b79dcd-a107-422b-b541-cdcc62326f4f",
   "metadata": {},
   "outputs": [],
   "source": [
    "# write a function that takes two numbers as arguments, multiplies them and returns the result\n",
    "def multiply_2_nums(x, y):\n",
    "    result = x * y\n",
    "    return result"
   ]
  },
  {
   "cell_type": "code",
   "execution_count": null,
   "id": "4e7c651c-b378-484c-b0c0-9384d596129c",
   "metadata": {},
   "outputs": [],
   "source": [
    "x_times_y = multiply_2_nums(8,4)"
   ]
  },
  {
   "cell_type": "code",
   "execution_count": null,
   "id": "8d463bca-da91-4ab1-9189-56ec4ba1d147",
   "metadata": {},
   "outputs": [],
   "source": [
    "print(x_times_y)"
   ]
  },
  {
   "cell_type": "markdown",
   "id": "49d8f510-3015-4e9c-b850-ad44cd7c8542",
   "metadata": {
    "tags": []
   },
   "source": [
    "### FizzBuzz program \n",
    "\n",
    "- Write a program that prints numbers between 1 and 100 with the following requirements. If the number is divisible by 3, print 'Fizz'. If the number is divisible by 5, print 'Buzz'. If the number is divisible by both 3 and 5, print 'FizzBuzz'."
   ]
  },
  {
   "cell_type": "markdown",
   "id": "024f2a3c-9a45-4917-8508-c6c39147d520",
   "metadata": {},
   "source": [
    "```\n",
    "Example:\n",
    "\n",
    "fizzbuzz(3) -> 'Fizz'\n",
    "\n",
    "fizzbuzz(5) -> 'Buzz'\n",
    "\n",
    "fizzbuzz(15) -> 'FizzBuzz'\n",
    "\n",
    "fizzbuzz(4) -> blank output\n",
    "```"
   ]
  },
  {
   "cell_type": "code",
   "execution_count": null,
   "id": "58a70305-605a-44e4-bc09-ba73c58bd856",
   "metadata": {},
   "outputs": [],
   "source": [
    "def fizzbuzz(num):\n",
    "    # check if num is divisible by 3 and 5 both\n",
    "    if (num % 3 == 0) and (num % 5 == 0):\n",
    "        return 'FizzBuzz'\n",
    "    # check if num is divisible by 3 only\n",
    "    elif num % 3 == 0:\n",
    "        return 'Fizz'\n",
    "    # check if num is divisible by 5 only\n",
    "    elif num % 5 == 0:\n",
    "        return 'Buzz'"
   ]
  },
  {
   "cell_type": "code",
   "execution_count": null,
   "id": "d31053fc-eb45-432f-84b3-912abdeaefe5",
   "metadata": {},
   "outputs": [],
   "source": [
    "print(fizzbuzz(3))"
   ]
  },
  {
   "cell_type": "code",
   "execution_count": null,
   "id": "e1d97dd2-d307-4d91-bab2-4cee38a5c390",
   "metadata": {},
   "outputs": [],
   "source": [
    "print(fizzbuzz(5))"
   ]
  },
  {
   "cell_type": "code",
   "execution_count": null,
   "id": "7d380c5b-a5e0-435a-9dbc-72f4a7d83b7d",
   "metadata": {},
   "outputs": [],
   "source": [
    "print(fizzbuzz(15))"
   ]
  },
  {
   "cell_type": "markdown",
   "id": "114fa05e-8060-46a1-9809-430489307548",
   "metadata": {},
   "source": [
    "The above implementation will, in the best case scenario, do two logical operation checks. And in the worst case scenario, will do four logical operation checks."
   ]
  },
  {
   "cell_type": "code",
   "execution_count": null,
   "id": "7cef3a82-90a6-4270-9125-a8ec167e5991",
   "metadata": {},
   "outputs": [],
   "source": [
    "# improved version of fizzbuzz. It will always do only two logical operation checks.\n",
    "def fizzbuzz_improved(num):\n",
    "    result = ''                  # create an empty string\n",
    "    if num % 3 == 0:             # check if num is divisible by 3.\n",
    "        result = result + 'Fizz' # append the sting with 'Fizz'\n",
    "    if num % 5 == 0:             # check if num is divisible by 5\n",
    "        result = result + 'Buzz' # append the string with 'Buzz'\n",
    "    return result"
   ]
  },
  {
   "cell_type": "code",
   "execution_count": null,
   "id": "6ab23f60-3d90-4fbf-94e5-6369579adc18",
   "metadata": {},
   "outputs": [],
   "source": [
    "print(fizzbuzz_improved(30))"
   ]
  },
  {
   "cell_type": "code",
   "execution_count": null,
   "id": "7578f357-087e-449e-95b6-eb910cc2e59f",
   "metadata": {},
   "outputs": [],
   "source": [
    "print(fizzbuzz_improved(3))"
   ]
  },
  {
   "cell_type": "code",
   "execution_count": null,
   "id": "8a7a6e9b-7aaf-4df4-ba53-4ced1f044923",
   "metadata": {},
   "outputs": [],
   "source": [
    "print(fizzbuzz_improved(15))"
   ]
  },
  {
   "cell_type": "code",
   "execution_count": null,
   "id": "3acf0727-853a-4a79-a3b3-62050a9b7ed6",
   "metadata": {},
   "outputs": [],
   "source": [
    "def print_fizzbuzz(start, end):\n",
    "    for i in range(start, end+1):\n",
    "        output = fizzbuzz_improved(i)\n",
    "        if output != '':\n",
    "            print('{}: {}'.format(i, output))"
   ]
  },
  {
   "cell_type": "code",
   "execution_count": null,
   "id": "cb3965a7-d860-40d6-873f-8b0c9f78c547",
   "metadata": {},
   "outputs": [],
   "source": [
    "print_fizzbuzz(1,100)"
   ]
  },
  {
   "cell_type": "code",
   "execution_count": null,
   "id": "e39b19ae-20d4-4c11-97af-c63cc6ea7332",
   "metadata": {},
   "outputs": [],
   "source": []
  }
 ],
 "metadata": {
  "kernelspec": {
   "display_name": "Python 3 (ipykernel)",
   "language": "python",
   "name": "python3"
  },
  "language_info": {
   "codemirror_mode": {
    "name": "ipython",
    "version": 3
   },
   "file_extension": ".py",
   "mimetype": "text/x-python",
   "name": "python",
   "nbconvert_exporter": "python",
   "pygments_lexer": "ipython3",
   "version": "3.9.13"
  }
 },
 "nbformat": 4,
 "nbformat_minor": 5
}
